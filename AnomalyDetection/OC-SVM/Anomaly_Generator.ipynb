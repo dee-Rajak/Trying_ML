{
 "cells": [
  {
   "cell_type": "code",
   "execution_count": 1,
   "metadata": {},
   "outputs": [],
   "source": [
    "import pandas as pd\n",
    "import random\n",
    "import string"
   ]
  },
  {
   "cell_type": "code",
   "execution_count": 2,
   "metadata": {},
   "outputs": [],
   "source": [
    "# Function to inject anomalies into the dataset\n",
    "def inject_anomalies(csv_path, output_path, anomaly_fraction=0.1):\n",
    "    # Load the dataset\n",
    "    df = pd.read_csv(csv_path)\n",
    "\n",
    "    # Ensure the dataset contains the required fields\n",
    "    required_fields = ['fldInvoiceAmount', 'fldVendorName', 'fldTransactions']\n",
    "    for field in required_fields:\n",
    "        if field not in df.columns:\n",
    "            raise ValueError(f\"Missing required field: {field}\")\n",
    "\n",
    "    # Add the Anomaly column\n",
    "    df['A_InvoiceAmount'] = 'normal'\n",
    "    df['A_VendorName'] = 'normal'\n",
    "    df['A_Currency'] = 'normal'\n",
    "    df['Anomaly'] = 'normal'\n",
    "\n",
    "    # Calculate the number of anomalies to inject\n",
    "    num_anomalies = int(len(df) * anomaly_fraction)\n",
    "\n",
    "    # Inject anomalies in fldInvoiceAmount (add large random amounts)\n",
    "    anomaly_indices = random.sample(range(len(df)), num_anomalies // 3)\n",
    "    for idx in anomaly_indices:\n",
    "        df.at[idx, 'fldInvoiceAmount'] += random.uniform(10000, 100000)  # Add large amounts\n",
    "        df.at[idx, 'Anomaly'] = 'anomaly'\n",
    "        df.at[idx, 'A_InvoiceAmount'] = 'anomaly'\n",
    "\n",
    "    # Inject anomalies in fldVendorName (add typos or new words)\n",
    "    anomaly_indices = random.sample(range(len(df)), num_anomalies // 3)\n",
    "    for idx in anomaly_indices:\n",
    "        original_name = df.at[idx, 'fldVendorName']\n",
    "        if pd.notnull(original_name):  # Only process non-null values\n",
    "            if random.random() > 0.5:\n",
    "                # Typo in fldVendorName\n",
    "                typo_index = random.randint(0, len(original_name) - 1)\n",
    "                typo_char = random.choice(string.ascii_letters)\n",
    "                df.at[idx, 'fldVendorName'] = (original_name[:typo_index] + typo_char + \n",
    "                                            original_name[typo_index + 1:])\n",
    "            else:\n",
    "                # Add new word to fldVendorName\n",
    "                new_word = ''.join(random.choices(string.ascii_lowercase, k=5))\n",
    "                df.at[idx, 'fldVendorName'] = original_name + \" \" + new_word\n",
    "            df.at[idx, 'Anomaly'] = 'anomaly'\n",
    "            df.at[idx, 'A_VendorName'] = 'anomaly'\n",
    "\n",
    "    # Inject anomalies in fldTransactions (change for specific vendors)\n",
    "    anomaly_indices = random.sample(range(len(df)), num_anomalies // 3)\n",
    "    unique_currencies = df['fldTransactions'].dropna().unique().tolist()\n",
    "    additional_currencies = ['YEN', 'INR', 'JPY', 'AUD', 'CAD', 'IDR', 'MYR', 'VND']\n",
    "    unique_currencies.extend(additional_currencies)\n",
    "\n",
    "    for idx in anomaly_indices:\n",
    "        original_currency = df.at[idx, 'fldTransactions']\n",
    "        if pd.notnull(original_currency):  # Only process non-null values\n",
    "            possible_currencies = [c for c in unique_currencies if c != original_currency]\n",
    "            if possible_currencies:\n",
    "                df.at[idx, 'fldTransactions'] = random.choice(possible_currencies)\n",
    "                df.at[idx, 'Anomaly'] = 'anomaly'\n",
    "                df.at[idx, 'A_Currency'] = 'anomaly'\n",
    "\n",
    "    # Save the modified dataset\n",
    "    df.to_csv(output_path, index=False)\n",
    "    print(f\"Anomalies injected and saved to {output_path}\")\n",
    "    "
   ]
  },
  {
   "cell_type": "code",
   "execution_count": 3,
   "metadata": {},
   "outputs": [
    {
     "name": "stdout",
     "output_type": "stream",
     "text": [
      "Anomalies injected and saved to output_with_anomalies.csv\n"
     ]
    }
   ],
   "source": [
    "# Example usage\n",
    "csv_path = 'dataset.csv'  # Path to the input dataset\n",
    "output_path = 'output_with_anomalies.csv'  # Path to save the dataset with anomalies\n",
    "inject_anomalies(csv_path, output_path, anomaly_fraction=0.1)"
   ]
  }
 ],
 "metadata": {
  "kernelspec": {
   "display_name": "base",
   "language": "python",
   "name": "python3"
  },
  "language_info": {
   "codemirror_mode": {
    "name": "ipython",
    "version": 3
   },
   "file_extension": ".py",
   "mimetype": "text/x-python",
   "name": "python",
   "nbconvert_exporter": "python",
   "pygments_lexer": "ipython3",
   "version": "3.12.4"
  }
 },
 "nbformat": 4,
 "nbformat_minor": 2
}
