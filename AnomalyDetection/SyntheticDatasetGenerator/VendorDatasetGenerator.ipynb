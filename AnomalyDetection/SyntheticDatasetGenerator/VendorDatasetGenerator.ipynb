{
 "cells": [
  {
   "cell_type": "code",
   "execution_count": 9,
   "metadata": {},
   "outputs": [],
   "source": [
    "import pandas as pd\n",
    "import numpy as np\n",
    "from faker import Faker\n",
    "import random\n",
    "from datetime import datetime, timedelta"
   ]
  },
  {
   "cell_type": "code",
   "execution_count": 10,
   "metadata": {},
   "outputs": [],
   "source": [
    "# Initialize Faker and set locale for realistic regional data\n",
    "faker = Faker()\n",
    "Faker.seed(42)\n",
    "random.seed(42)\n",
    "np.random.seed(42)\n",
    "\n",
    "# Predefined categories\n",
    "systems = ['SAP-P49', 'SAP-P49-WF', 'SAP-P49, SAP-P49-WF']\n",
    "statuses = ['Active', 'Inactive']\n",
    "divisions = ['Marelli PWT Slovakia', 'Marelli Germany', 'Marelli Poland', 'Marelli EPT Cologne', 'Marelli Italy', 'Marelli Japan']"
   ]
  },
  {
   "cell_type": "code",
   "execution_count": 11,
   "metadata": {},
   "outputs": [],
   "source": [
    "# Helper functions\n",
    "def generate_divisions():\n",
    "    \"\"\"Generates a random list of divisions or none.\"\"\"\n",
    "    if random.random() > 0.7:  # 30% chance of having no division\n",
    "        return None\n",
    "    return \", \".join(random.sample(divisions, random.randint(1, len(divisions))))\n",
    "\n",
    "def generate_status():\n",
    "    \"\"\"Randomly assigns Active or Inactive.\"\"\"\n",
    "    return random.choice(statuses)\n",
    "\n",
    "# def generate_vendor_no():\n",
    "#     \"\"\"Generates a 10-digit Vendor Number.\"\"\"\n",
    "#     return str(random.randint(1000000000, 9999999999))\n",
    "\n",
    "def generate_spend():\n",
    "    \"\"\"Generates Total Spend (can be negative, zero, or large).\"\"\"\n",
    "    return round(np.random.normal(1000000, 5000), 2) if random.random() > 0.5 else 0 # mean=1000k, std=5k\n",
    "\n",
    "def generate_invoices(total_spend):\n",
    "    \"\"\"Generates number of invoices based on total spend.\"\"\"\n",
    "    if total_spend <= 0:\n",
    "        return 0\n",
    "    return random.randint(1, 500)\n",
    "\n",
    "def generate_open_balance(total_spend):\n",
    "    \"\"\"Generates Open Balance as a fraction of Total Spend.\"\"\"\n",
    "    return round(total_spend * np.random.uniform(-0.5, 0.5), 2)\n",
    "\n",
    "def generate_date_added():\n",
    "    \"\"\"Generates a random date in the past 10 years.\"\"\"\n",
    "    start_date = datetime.now() - timedelta(days=1460)\n",
    "    random_days = random.randint(0, 1460)\n",
    "    return (start_date + timedelta(days=random_days)).date()"
   ]
  },
  {
   "cell_type": "code",
   "execution_count": 12,
   "metadata": {},
   "outputs": [],
   "source": [
    "# Generate the dataset\n",
    "def generate_vendor_data(num_records):\n",
    "    \"\"\"Creates a synthetic Vendor Master Database dataset.\"\"\"\n",
    "    data = []\n",
    "    for _ in range(num_records):\n",
    "        total_spend = generate_spend()\n",
    "        record = {\n",
    "            'Status': generate_status(),\n",
    "            # 'Vendor No.': generate_vendor_no(),\n",
    "            'Vendor No.': 1000000001+_,\n",
    "            'Vendor': faker.company(),\n",
    "            'System': random.choice(systems),\n",
    "            'Division': generate_divisions(),\n",
    "            'Total Spend': total_spend,\n",
    "            'Invoices': generate_invoices(total_spend),\n",
    "            'Open Balance': generate_open_balance(total_spend),\n",
    "            'Avg Day to Pay': None if total_spend == 0 else random.randint(10, 90),\n",
    "            '% Late': None if total_spend == 0 else round(np.random.uniform(0, 100), 2),\n",
    "            'Avg Days Paid Late': None if total_spend == 0 else random.randint(0, 30),\n",
    "            'Avg Invoice Value': round(total_spend / max(1, random.randint(1, 500)), 2),\n",
    "            'Added On': generate_date_added(),\n",
    "            'Vendor Group': None,\n",
    "            'Telephone': faker.phone_number(),\n",
    "            'Tax ID': str(random.randint(1000000000, 7777777777)+1000000001+_),\n",
    "            'Email': faker.email()\n",
    "        }\n",
    "        data.append(record)\n",
    "    \n",
    "    return pd.DataFrame(data)"
   ]
  },
  {
   "cell_type": "code",
   "execution_count": 13,
   "metadata": {},
   "outputs": [
    {
     "name": "stdout",
     "output_type": "stream",
     "text": [
      "Synthetic Vendor Master Dataset generated and saved as 'vendor_master_dataset.csv'.\n"
     ]
    }
   ],
   "source": [
    "# Generate and save the dataset\n",
    "num_records = 1000\n",
    "df = generate_vendor_data(num_records)\n",
    "df.to_csv('vendor_master_dataset.csv', index=False)\n",
    "\n",
    "print(\"Synthetic Vendor Master Dataset generated and saved as 'vendor_master_dataset.csv'.\")"
   ]
  }
 ],
 "metadata": {
  "kernelspec": {
   "display_name": "base",
   "language": "python",
   "name": "python3"
  },
  "language_info": {
   "codemirror_mode": {
    "name": "ipython",
    "version": 3
   },
   "file_extension": ".py",
   "mimetype": "text/x-python",
   "name": "python",
   "nbconvert_exporter": "python",
   "pygments_lexer": "ipython3",
   "version": "3.12.4"
  }
 },
 "nbformat": 4,
 "nbformat_minor": 2
}
