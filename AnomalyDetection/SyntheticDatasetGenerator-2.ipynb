{
 "cells": [
  {
   "cell_type": "code",
   "execution_count": 1,
   "metadata": {},
   "outputs": [],
   "source": [
    "import random\n",
    "from faker import Faker\n",
    "from datetime import datetime, timedelta\n",
    "import pandas as pd\n",
    "\n",
    "# Initialize Faker instance\n",
    "fake = Faker()"
   ]
  },
  {
   "cell_type": "code",
   "execution_count": 2,
   "metadata": {},
   "outputs": [],
   "source": [
    "# Define Dataset Fields and Rules\n",
    "def generate_invoice():\n",
    "    \"\"\"Generates a single invoice record with realistic data.\"\"\"\n",
    "    supplier_name = random.choice([\n",
    "        \"Purple Plumbers Limited\", \n",
    "        \"Artic Apples Co.\", \n",
    "        \"Global Tech Solutions\",\n",
    "        \"Blue Banana Inc.\"\n",
    "    ])\n",
    "    supplier_reference = f\"V_{supplier_name.split()[0][:2].upper()}001\"\n",
    "    invoice_date = fake.date_between(start_date='-1y', end_date='today')\n",
    "    posting_date = invoice_date + timedelta(days=random.randint(0, 15))\n",
    "    due_date = invoice_date + timedelta(days=random.randint(15, 60))\n",
    "    is_paid = random.random() > 0.2  # 80% chance the invoice is paid\n",
    "    payment_date = (due_date + timedelta(days=random.randint(0, 30))) if is_paid else None\n",
    "    gross_amount = round(random.uniform(50, 10000), 2) * (1 if random.random() > 0.1 else -1)\n",
    "    vat_amount = round(gross_amount * 0.2, 2)  # 20% VAT\n",
    "    currency = random.choice([\"USD\", \"EUR\", \"GBP\"])\n",
    "    debit_credit = \"Dr\" if gross_amount > 0 else \"Cr\"\n",
    "\n",
    "    return {\n",
    "        \"Internal Reference\": fake.random_int(min=100000000, max=999999999),\n",
    "        \"Invoice Number\": f\"IN{fake.random_int(min=100000, max=999999)}\",\n",
    "        \"Supplier Name\": supplier_name,\n",
    "        \"Supplier Reference\": supplier_reference,\n",
    "        \"Invoice Date\": invoice_date,\n",
    "        \"Posting Date\": posting_date,\n",
    "        \"Due Date\": due_date,\n",
    "        \"Payment Date\": payment_date,\n",
    "        \"Gross Amount\": gross_amount,\n",
    "        \"VAT Amount\": vat_amount,\n",
    "        \"Currency Code\": currency,\n",
    "        \"Debit/Credit\": debit_credit\n",
    "    }"
   ]
  },
  {
   "cell_type": "code",
   "execution_count": 3,
   "metadata": {},
   "outputs": [],
   "source": [
    "# Generate Dataset\n",
    "def generate_dataset(num_records=1000):\n",
    "    \"\"\"Generates a dataset with the specified number of records.\"\"\"\n",
    "    dataset = [generate_invoice() for _ in range(num_records)]\n",
    "    return dataset"
   ]
  },
  {
   "cell_type": "code",
   "execution_count": 4,
   "metadata": {},
   "outputs": [],
   "source": [
    "# Inject Anomalies\n",
    "def inject_anomalies(data, anomaly_rate=0.05):\n",
    "    \"\"\"Injects anomalies into the dataset at the specified rate.\"\"\"\n",
    "    for record in data:\n",
    "        if random.random() < anomaly_rate:\n",
    "            anomaly_type = random.choice(['currency', 'gross_amount', 'supplier_name', 'date_inconsistency'])\n",
    "            if anomaly_type == 'currency':\n",
    "                record['Currency Code'] = random.choice(['JPY', 'AUD', 'CAD'])\n",
    "            elif anomaly_type == 'gross_amount':\n",
    "                record['Gross Amount'] *= random.uniform(5, 10)  # Large anomaly\n",
    "                record['VAT Amount'] = round(record['Gross Amount'] * 0.2, 2)\n",
    "            elif anomaly_type == 'supplier_name':\n",
    "                record['Supplier Name'] = record['Supplier Name'].replace('Apples', 'Appes')\n",
    "            elif anomaly_type == 'date_inconsistency':\n",
    "                record['Due Date'] = record['Invoice Date'] - timedelta(days=random.randint(1, 10))\n",
    "    return data"
   ]
  },
  {
   "cell_type": "code",
   "execution_count": 5,
   "metadata": {},
   "outputs": [],
   "source": [
    "# Export to CSV\n",
    "def export_to_csv(data, filename=\"synthetic_dataset.csv\"):\n",
    "    \"\"\"Exports the dataset to a CSV file.\"\"\"\n",
    "    df = pd.DataFrame(data)\n",
    "    df.to_csv(filename, index=False)\n",
    "    print(f\"Dataset exported to {filename}\")"
   ]
  },
  {
   "cell_type": "code",
   "execution_count": 6,
   "metadata": {},
   "outputs": [
    {
     "name": "stdout",
     "output_type": "stream",
     "text": [
      "Dataset exported to synthetic_dataset.csv\n"
     ]
    }
   ],
   "source": [
    "# Generate the dataset\n",
    "dataset = generate_dataset(num_records=1000)\n",
    "\n",
    "# Inject anomalies\n",
    "dataset_with_anomalies = inject_anomalies(dataset, anomaly_rate=0.05)\n",
    "\n",
    "# Export to CSV\n",
    "export_to_csv(dataset_with_anomalies, filename=\"synthetic_dataset.csv\")"
   ]
  }
 ],
 "metadata": {
  "kernelspec": {
   "display_name": "base",
   "language": "python",
   "name": "python3"
  },
  "language_info": {
   "codemirror_mode": {
    "name": "ipython",
    "version": 3
   },
   "file_extension": ".py",
   "mimetype": "text/x-python",
   "name": "python",
   "nbconvert_exporter": "python",
   "pygments_lexer": "ipython3",
   "version": "3.12.4"
  }
 },
 "nbformat": 4,
 "nbformat_minor": 2
}
